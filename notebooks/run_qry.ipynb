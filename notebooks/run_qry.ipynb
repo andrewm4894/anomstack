{
 "cells": [
  {
   "cell_type": "code",
   "execution_count": 1,
   "metadata": {},
   "outputs": [
    {
     "data": {
      "text/plain": [
       "True"
      ]
     },
     "execution_count": 1,
     "metadata": {},
     "output_type": "execute_result"
    }
   ],
   "source": [
    "# from anomstack.external.sqlite.sqlite import run_sql_sqlite\n",
    "from dotenv import load_dotenv\n",
    "\n",
    "from anomstack.external.duckdb.duckdb import run_sql_duckdb as run_sql\n",
    "\n",
    "load_dotenv(override=True)"
   ]
  },
  {
   "cell_type": "code",
   "execution_count": 2,
   "metadata": {},
   "outputs": [
    {
     "name": "stdout",
     "output_type": "stream",
     "text": [
      "\n",
      "select \n",
      "  metric_name, metric_timestamp \n",
      "from \n",
      "  metrics_coindesk\n",
      "order by metric_timestamp desc\n",
      "limit 100\n",
      "\n"
     ]
    }
   ],
   "source": [
    "# read qry from local sql file\n",
    "# qry = open(\"qry.sql\", \"r\").read()\n",
    "qry = \"\"\"\n",
    "select \n",
    "  metric_name, metric_timestamp \n",
    "from \n",
    "  metrics_coindesk\n",
    "order by metric_timestamp desc\n",
    "limit 100\n",
    "\"\"\"\n",
    "print(qry)"
   ]
  },
  {
   "cell_type": "code",
   "execution_count": 3,
   "metadata": {},
   "outputs": [
    {
     "name": "stdout",
     "output_type": "stream",
     "text": [
      "(100, 2)\n"
     ]
    },
    {
     "data": {
      "text/html": [
       "<div>\n",
       "<style scoped>\n",
       "    .dataframe tbody tr th:only-of-type {\n",
       "        vertical-align: middle;\n",
       "    }\n",
       "\n",
       "    .dataframe tbody tr th {\n",
       "        vertical-align: top;\n",
       "    }\n",
       "\n",
       "    .dataframe thead th {\n",
       "        text-align: right;\n",
       "    }\n",
       "</style>\n",
       "<table border=\"1\" class=\"dataframe\">\n",
       "  <thead>\n",
       "    <tr style=\"text-align: right;\">\n",
       "      <th></th>\n",
       "      <th>metric_name</th>\n",
       "      <th>metric_timestamp</th>\n",
       "    </tr>\n",
       "  </thead>\n",
       "  <tbody>\n",
       "    <tr>\n",
       "      <th>0</th>\n",
       "      <td>coindesk.BTC-USD.CURRENT_HOUR_VOLUME_TOP_TIER</td>\n",
       "      <td>2025-03-09 20:49:49</td>\n",
       "    </tr>\n",
       "    <tr>\n",
       "      <th>1</th>\n",
       "      <td>coindesk.BTC-USD.CURRENT_HOUR_QUOTE_VOLUME_TOP...</td>\n",
       "      <td>2025-03-09 20:49:49</td>\n",
       "    </tr>\n",
       "    <tr>\n",
       "      <th>2</th>\n",
       "      <td>coindesk.ETH-USD.CURRENT_HOUR_VOLUME_TOP_TIER_...</td>\n",
       "      <td>2025-03-09 20:49:49</td>\n",
       "    </tr>\n",
       "    <tr>\n",
       "      <th>3</th>\n",
       "      <td>coindesk.BTC-USD.CURRENT_HOUR_CHANGE</td>\n",
       "      <td>2025-03-09 20:49:49</td>\n",
       "    </tr>\n",
       "    <tr>\n",
       "      <th>4</th>\n",
       "      <td>coindesk.BTC-USD.CURRENT_HOUR_TOTAL_INDEX_UPDATES</td>\n",
       "      <td>2025-03-09 20:49:49</td>\n",
       "    </tr>\n",
       "    <tr>\n",
       "      <th>...</th>\n",
       "      <td>...</td>\n",
       "      <td>...</td>\n",
       "    </tr>\n",
       "    <tr>\n",
       "      <th>95</th>\n",
       "      <td>coindesk.ETH-USD.CURRENT_HOUR_VOLUME_TOP_TIER</td>\n",
       "      <td>2025-03-09 20:39:58</td>\n",
       "    </tr>\n",
       "    <tr>\n",
       "      <th>96</th>\n",
       "      <td>coindesk.BTC-USD.CURRENT_HOUR_QUOTE_VOLUME_DIRECT</td>\n",
       "      <td>2025-03-09 20:39:58</td>\n",
       "    </tr>\n",
       "    <tr>\n",
       "      <th>97</th>\n",
       "      <td>coindesk.ETH-USD.CURRENT_HOUR_QUOTE_VOLUME</td>\n",
       "      <td>2025-03-09 20:39:58</td>\n",
       "    </tr>\n",
       "    <tr>\n",
       "      <th>98</th>\n",
       "      <td>coindesk.ETH-USD.CURRENT_HOUR_CHANGE</td>\n",
       "      <td>2025-03-09 20:39:58</td>\n",
       "    </tr>\n",
       "    <tr>\n",
       "      <th>99</th>\n",
       "      <td>coindesk.ETH-USD.CURRENT_HOUR_VOLUME_TOP_TIER_...</td>\n",
       "      <td>2025-03-09 20:39:58</td>\n",
       "    </tr>\n",
       "  </tbody>\n",
       "</table>\n",
       "<p>100 rows × 2 columns</p>\n",
       "</div>"
      ],
      "text/plain": [
       "                                          metric_name    metric_timestamp\n",
       "0       coindesk.BTC-USD.CURRENT_HOUR_VOLUME_TOP_TIER 2025-03-09 20:49:49\n",
       "1   coindesk.BTC-USD.CURRENT_HOUR_QUOTE_VOLUME_TOP... 2025-03-09 20:49:49\n",
       "2   coindesk.ETH-USD.CURRENT_HOUR_VOLUME_TOP_TIER_... 2025-03-09 20:49:49\n",
       "3                coindesk.BTC-USD.CURRENT_HOUR_CHANGE 2025-03-09 20:49:49\n",
       "4   coindesk.BTC-USD.CURRENT_HOUR_TOTAL_INDEX_UPDATES 2025-03-09 20:49:49\n",
       "..                                                ...                 ...\n",
       "95      coindesk.ETH-USD.CURRENT_HOUR_VOLUME_TOP_TIER 2025-03-09 20:39:58\n",
       "96  coindesk.BTC-USD.CURRENT_HOUR_QUOTE_VOLUME_DIRECT 2025-03-09 20:39:58\n",
       "97         coindesk.ETH-USD.CURRENT_HOUR_QUOTE_VOLUME 2025-03-09 20:39:58\n",
       "98               coindesk.ETH-USD.CURRENT_HOUR_CHANGE 2025-03-09 20:39:58\n",
       "99  coindesk.ETH-USD.CURRENT_HOUR_VOLUME_TOP_TIER_... 2025-03-09 20:39:58\n",
       "\n",
       "[100 rows x 2 columns]"
      ]
     },
     "metadata": {},
     "output_type": "display_data"
    }
   ],
   "source": [
    "# read df from sqlite\n",
    "df = run_sql(qry, return_df=True)\n",
    "print(df.shape)\n",
    "display(df)"
   ]
  }
 ],
 "metadata": {
  "kernelspec": {
   "display_name": "venv",
   "language": "python",
   "name": "python3"
  },
  "language_info": {
   "codemirror_mode": {
    "name": "ipython",
    "version": 3
   },
   "file_extension": ".py",
   "mimetype": "text/x-python",
   "name": "python",
   "nbconvert_exporter": "python",
   "pygments_lexer": "ipython3",
   "version": "3.10.6"
  }
 },
 "nbformat": 4,
 "nbformat_minor": 2
}
